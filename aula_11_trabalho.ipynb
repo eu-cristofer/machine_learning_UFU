{
 "cells": [
  {
   "cell_type": "markdown",
   "metadata": {},
   "source": [
    "Teste 7 - Fazer a atividades combinada na aula de 30/10/24\n",
    "\n",
    "Aluno: Thiago Cesar Emrich"
   ]
  },
  {
   "cell_type": "code",
   "execution_count": null,
   "metadata": {},
   "outputs": [
    {
     "data": {
      "image/png": "[encoded data removed]",
      "text/plain": [
       "<Figure size 640x480 with 1 Axes>"
      ]
     },
     "metadata": {},
     "output_type": "display_data"
    },
    {
     "name": "stdout",
     "output_type": "stream",
     "text": [
      "Epoch 1/10\n",
      "\u001b[1m329/329\u001b[0m \u001b[32m━━━━━━━━━━━━━━━━━━━━\u001b[0m\u001b[37m\u001b[0m \u001b[1m4s\u001b[0m 8ms/step - accuracy: 0.8498 - loss: 0.4906 - val_accuracy: 0.9600 - val_loss: 0.1309\n",
      "Epoch 2/10\n",
      "\u001b[1m329/329\u001b[0m \u001b[32m━━━━━━━━━━━━━━━━━━━━\u001b[0m\u001b[37m\u001b[0m \u001b[1m3s\u001b[0m 8ms/step - accuracy: 0.9686 - loss: 0.1054 - val_accuracy: 0.9629 - val_loss: 0.1211\n",
      "Epoch 3/10\n",
      "\u001b[1m329/329\u001b[0m \u001b[32m━━━━━━━━━━━━━━━━━━━━\u001b[0m\u001b[37m\u001b[0m \u001b[1m3s\u001b[0m 8ms/step - accuracy: 0.9783 - loss: 0.0702 - val_accuracy: 0.9686 - val_loss: 0.1098\n",
      "Epoch 4/10\n",
      "\u001b[1m329/329\u001b[0m \u001b[32m━━━━━━━━━━━━━━━━━━━━\u001b[0m\u001b[37m\u001b[0m \u001b[1m3s\u001b[0m 8ms/step - accuracy: 0.9834 - loss: 0.0562 - val_accuracy: 0.9704 - val_loss: 0.1059\n",
      "Epoch 5/10\n",
      "\u001b[1m329/329\u001b[0m \u001b[32m━━━━━━━━━━━━━━━━━━━━\u001b[0m\u001b[37m\u001b[0m \u001b[1m3s\u001b[0m 8ms/step - accuracy: 0.9859 - loss: 0.0439 - val_accuracy: 0.9683 - val_loss: 0.1207\n",
      "Epoch 6/10\n",
      "\u001b[1m329/329\u001b[0m \u001b[32m━━━━━━━━━━━━━━━━━━━━\u001b[0m\u001b[37m\u001b[0m \u001b[1m3s\u001b[0m 8ms/step - accuracy: 0.9889 - loss: 0.0379 - val_accuracy: 0.9623 - val_loss: 0.1390\n",
      "Epoch 7/10\n",
      "\u001b[1m329/329\u001b[0m \u001b[32m━━━━━━━━━━━━━━━━━━━━\u001b[0m\u001b[37m\u001b[0m \u001b[1m3s\u001b[0m 8ms/step - accuracy: 0.9876 - loss: 0.0421 - val_accuracy: 0.9721 - val_loss: 0.1483\n",
      "Epoch 8/10\n",
      "\u001b[1m329/329\u001b[0m \u001b[32m━━━━━━━━━━━━━━━━━━━━\u001b[0m\u001b[37m\u001b[0m \u001b[1m3s\u001b[0m 8ms/step - accuracy: 0.9917 - loss: 0.0283 - val_accuracy: 0.9732 - val_loss: 0.1222\n",
      "Epoch 9/10\n",
      "\u001b[1m329/329\u001b[0m \u001b[32m━━━━━━━━━━━━━━━━━━━━\u001b[0m\u001b[37m\u001b[0m \u001b[1m3s\u001b[0m 8ms/step - accuracy: 0.9910 - loss: 0.0303 - val_accuracy: 0.9785 - val_loss: 0.1071\n",
      "Epoch 10/10\n",
      "\u001b[1m329/329\u001b[0m \u001b[32m━━━━━━━━━━━━━━━━━━━━\u001b[0m\u001b[37m\u001b[0m \u001b[1m3s\u001b[0m 8ms/step - accuracy: 0.9936 - loss: 0.0228 - val_accuracy: 0.9739 - val_loss: 0.1198\n"
     ]
    }
   ],
   "source": [
    "import numpy as np  \n",
    "import pandas as pd\n",
    "import matplotlib.pyplot as plt\n",
    "import tensorflow as tf\n",
    "import keras\n",
    "from sklearn.model_selection import train_test_split\n",
    "from keras.models import Sequential\n",
    "from keras.layers import Dense, Input, Dropout\n",
    "from keras import regularizers\n",
    "\n",
    "# Load the dataset\n",
    "(x_train, y_train), (x_test, y_test) = keras.datasets.mnist.load_data()\n",
    "\n",
    "# Verify dataset shape\n",
    "assert x_train.shape == (60000, 28, 28)\n",
    "assert x_test.shape == (10000, 28, 28)\n",
    "assert y_train.shape == (60000,)\n",
    "assert y_test.shape == (10000,)\n",
    "\n",
    "# Pick a sample to plot\n",
    "sample = 1\n",
    "image = x_train[sample]\n",
    "\n",
    "# Plot the sample\n",
    "plt.imshow(image, cmap='gray')\n",
    "plt.title(f\"Label: {y_train[sample]}\")  # Add title with label\n",
    "plt.show()\n",
    "\n",
    "# Preprocess the data\n",
    "x_train = x_train.astype('float32')\n",
    "x_train /= 255  # Normalize the data\n",
    "x_train = x_train.reshape(-1, 784).astype('float32')  # Flatten the images\n",
    "\n",
    "# Convert labels to categorical (one-hot encoding)\n",
    "train_labels = keras.utils.to_categorical(y_train).astype('float32')\n",
    "\n",
    "# Split data into training and validation sets\n",
    "x_train, x_valid, y_train, y_valid = train_test_split(x_train, train_labels, test_size=0.3, random_state=42)\n",
    "\n",
    "# Define model architecture\n",
    "input_num_units = 784\n",
    "hidden1_num_units = 500\n",
    "hidden2_num_units = 500\n",
    "hidden3_num_units = 500\n",
    "hidden4_num_units = 500\n",
    "hidden5_num_units = 500\n",
    "output_num_units = 10\n",
    "\n",
    "epochs = 10\n",
    "batch_size = 128\n",
    "\n",
    "model = Sequential([\n",
    "    Input(shape=(input_num_units,)),  # Use Input layer to specify input shape\n",
    "    Dense(hidden1_num_units, activation='relu'),\n",
    "    Dense(hidden2_num_units, activation='relu'),\n",
    "    Dense(hidden3_num_units, activation='relu'),\n",
    "    Dense(hidden4_num_units, activation='relu'),\n",
    "    Dense(hidden5_num_units, activation='relu'),\n",
    "    Dense(output_num_units, activation='softmax')\n",
    "])\n",
    "\n",
    "# Compile the model\n",
    "model.compile(loss='categorical_crossentropy', optimizer='adam', metrics=['accuracy'])\n",
    "\n",
    "# Train the model\n",
    "trained_model_5d = model.fit(x_train, y_train, epochs=epochs, batch_size=batch_size, validation_data=(x_valid, y_valid))"
   ]
  },
  {
   "cell_type": "markdown",
   "metadata": {},
   "source": []
  },
  {
   "cell_type": "markdown",
   "metadata": {},
   "source": []
  },
  {
   "cell_type": "markdown",
   "metadata": {},
   "source": [
    "Utilizando o Regularizador L2\n"
   ]
  },
  {
   "cell_type": "code",
   "execution_count": null,
   "metadata": {},
   "outputs": [
    {
     "name": "stdout",
     "output_type": "stream",
     "text": [
      "Epoch 1/10\n",
      "\u001b[1m329/329\u001b[0m \u001b[32m━━━━━━━━━━━━━━━━━━━━\u001b[0m\u001b[37m\u001b[0m \u001b[1m4s\u001b[0m 8ms/step - accuracy: 0.8451 - loss: 0.7071 - val_accuracy: 0.9566 - val_loss: 0.3225\n",
      "Epoch 2/10\n",
      "\u001b[1m329/329\u001b[0m \u001b[32m━━━━━━━━━━━━━━━━━━━━\u001b[0m\u001b[37m\u001b[0m \u001b[1m3s\u001b[0m 8ms/step - accuracy: 0.9658 - loss: 0.2788 - val_accuracy: 0.9680 - val_loss: 0.2665\n",
      "Epoch 3/10\n",
      "\u001b[1m329/329\u001b[0m \u001b[32m━━━━━━━━━━━━━━━━━━━━\u001b[0m\u001b[37m\u001b[0m \u001b[1m3s\u001b[0m 8ms/step - accuracy: 0.9767 - loss: 0.2275 - val_accuracy: 0.9657 - val_loss: 0.2596\n",
      "Epoch 4/10\n",
      "\u001b[1m329/329\u001b[0m \u001b[32m━━━━━━━━━━━━━━━━━━━━\u001b[0m\u001b[37m\u001b[0m \u001b[1m3s\u001b[0m 8ms/step - accuracy: 0.9778 - loss: 0.2100 - val_accuracy: 0.9727 - val_loss: 0.2182\n",
      "Epoch 5/10\n",
      "\u001b[1m329/329\u001b[0m \u001b[32m━━━━━━━━━━━━━━━━━━━━\u001b[0m\u001b[37m\u001b[0m \u001b[1m3s\u001b[0m 8ms/step - accuracy: 0.9845 - loss: 0.1702 - val_accuracy: 0.9733 - val_loss: 0.2115\n",
      "Epoch 6/10\n",
      "\u001b[1m329/329\u001b[0m \u001b[32m━━━━━━━━━━━━━━━━━━━━\u001b[0m\u001b[37m\u001b[0m \u001b[1m3s\u001b[0m 8ms/step - accuracy: 0.9856 - loss: 0.1606 - val_accuracy: 0.9736 - val_loss: 0.2035\n",
      "Epoch 7/10\n",
      "\u001b[1m329/329\u001b[0m \u001b[32m━━━━━━━━━━━━━━━━━━━━\u001b[0m\u001b[37m\u001b[0m \u001b[1m3s\u001b[0m 8ms/step - accuracy: 0.9877 - loss: 0.1431 - val_accuracy: 0.9744 - val_loss: 0.1939\n",
      "Epoch 8/10\n",
      "\u001b[1m329/329\u001b[0m \u001b[32m━━━━━━━━━━━━━━━━━━━━\u001b[0m\u001b[37m\u001b[0m \u001b[1m3s\u001b[0m 8ms/step - accuracy: 0.9897 - loss: 0.1287 - val_accuracy: 0.9697 - val_loss: 0.2079\n",
      "Epoch 9/10\n",
      "\u001b[1m329/329\u001b[0m \u001b[32m━━━━━━━━━━━━━━━━━━━━\u001b[0m\u001b[37m\u001b[0m \u001b[1m3s\u001b[0m 9ms/step - accuracy: 0.9884 - loss: 0.1260 - val_accuracy: 0.9768 - val_loss: 0.1735\n",
      "Epoch 10/10\n",
      "\u001b[1m329/329\u001b[0m \u001b[32m━━━━━━━━━━━━━━━━━━━━\u001b[0m\u001b[37m\u001b[0m \u001b[1m3s\u001b[0m 8ms/step - accuracy: 0.9915 - loss: 0.1144 - val_accuracy: 0.9753 - val_loss: 0.1713\n"
     ]
    }
   ],
   "source": [
    "model = Sequential([\n",
    "    Input(shape=(input_num_units,)),  # Use Input layer to specify input shape\n",
    "    Dense(hidden1_num_units, activation='relu', kernel_regularizer=regularizers.l2(0.0001)),\n",
    "    Dense(hidden2_num_units, activation='relu', kernel_regularizer=regularizers.l2(0.0001)),\n",
    "    Dense(hidden3_num_units, activation='relu', kernel_regularizer=regularizers.l2(0.0001)),\n",
    "    Dense(hidden4_num_units, activation='relu', kernel_regularizer=regularizers.l2(0.0001)),\n",
    "    Dense(hidden5_num_units, activation='relu', kernel_regularizer=regularizers.l2(0.0001)),\n",
    "    Dense(output_num_units, activation='softmax')\n",
    "])\n",
    "\n",
    "# Compile the model\n",
    "model.compile(loss='categorical_crossentropy', optimizer='adam', metrics=['accuracy'])\n",
    "\n",
    "# Train the model\n",
    "trained_model_5d = model.fit(x_train, y_train, epochs=epochs, batch_size=batch_size, validation_data=(x_valid, y_valid))\n"
   ]
  },
  {
   "cell_type": "markdown",
   "metadata": {},
   "source": [
    "Utilizando o Regularizador L1\n"
   ]
  },
  {
   "cell_type": "code",
   "execution_count": 8,
   "metadata": {},
   "outputs": [
    {
     "name": "stdout",
     "output_type": "stream",
     "text": [
      "Epoch 1/10\n",
      "\u001b[1m329/329\u001b[0m \u001b[32m━━━━━━━━━━━━━━━━━━━━\u001b[0m\u001b[37m\u001b[0m \u001b[1m4s\u001b[0m 8ms/step - accuracy: 0.8395 - loss: 3.7200 - val_accuracy: 0.9454 - val_loss: 1.5774\n",
      "Epoch 2/10\n",
      "\u001b[1m329/329\u001b[0m \u001b[32m━━━━━━━━━━━━━━━━━━━━\u001b[0m\u001b[37m\u001b[0m \u001b[1m3s\u001b[0m 8ms/step - accuracy: 0.9586 - loss: 1.3159 - val_accuracy: 0.9463 - val_loss: 0.8810\n",
      "Epoch 3/10\n",
      "\u001b[1m329/329\u001b[0m \u001b[32m━━━━━━━━━━━━━━━━━━━━\u001b[0m\u001b[37m\u001b[0m \u001b[1m3s\u001b[0m 8ms/step - accuracy: 0.9642 - loss: 0.7435 - val_accuracy: 0.9607 - val_loss: 0.5711\n",
      "Epoch 4/10\n",
      "\u001b[1m329/329\u001b[0m \u001b[32m━━━━━━━━━━━━━━━━━━━━\u001b[0m\u001b[37m\u001b[0m \u001b[1m3s\u001b[0m 8ms/step - accuracy: 0.9692 - loss: 0.5071 - val_accuracy: 0.9697 - val_loss: 0.4282\n",
      "Epoch 5/10\n",
      "\u001b[1m329/329\u001b[0m \u001b[32m━━━━━━━━━━━━━━━━━━━━\u001b[0m\u001b[37m\u001b[0m \u001b[1m3s\u001b[0m 8ms/step - accuracy: 0.9734 - loss: 0.3945 - val_accuracy: 0.9681 - val_loss: 0.3636\n",
      "Epoch 6/10\n",
      "\u001b[1m329/329\u001b[0m \u001b[32m━━━━━━━━━━━━━━━━━━━━\u001b[0m\u001b[37m\u001b[0m \u001b[1m3s\u001b[0m 8ms/step - accuracy: 0.9760 - loss: 0.3337 - val_accuracy: 0.9654 - val_loss: 0.3394\n",
      "Epoch 7/10\n",
      "\u001b[1m329/329\u001b[0m \u001b[32m━━━━━━━━━━━━━━━━━━━━\u001b[0m\u001b[37m\u001b[0m \u001b[1m3s\u001b[0m 9ms/step - accuracy: 0.9793 - loss: 0.2836 - val_accuracy: 0.9644 - val_loss: 0.3222\n",
      "Epoch 8/10\n",
      "\u001b[1m329/329\u001b[0m \u001b[32m━━━━━━━━━━━━━━━━━━━━\u001b[0m\u001b[37m\u001b[0m \u001b[1m3s\u001b[0m 9ms/step - accuracy: 0.9807 - loss: 0.2591 - val_accuracy: 0.9706 - val_loss: 0.2878\n",
      "Epoch 9/10\n",
      "\u001b[1m329/329\u001b[0m \u001b[32m━━━━━━━━━━━━━━━━━━━━\u001b[0m\u001b[37m\u001b[0m \u001b[1m3s\u001b[0m 8ms/step - accuracy: 0.9800 - loss: 0.2532 - val_accuracy: 0.9701 - val_loss: 0.2765\n",
      "Epoch 10/10\n",
      "\u001b[1m329/329\u001b[0m \u001b[32m━━━━━━━━━━━━━━━━━━━━\u001b[0m\u001b[37m\u001b[0m \u001b[1m3s\u001b[0m 9ms/step - accuracy: 0.9851 - loss: 0.2217 - val_accuracy: 0.9728 - val_loss: 0.2600\n"
     ]
    }
   ],
   "source": [
    "model = Sequential([\n",
    "    Input(shape=(input_num_units,)),  # Use Input layer to specify input shape\n",
    "    Dense(hidden1_num_units, activation='relu', kernel_regularizer=regularizers.l1(0.0001)),\n",
    "    Dense(hidden2_num_units, activation='relu', kernel_regularizer=regularizers.l1(0.0001)),\n",
    "    Dense(hidden3_num_units, activation='relu', kernel_regularizer=regularizers.l1(0.0001)),\n",
    "    Dense(hidden4_num_units, activation='relu', kernel_regularizer=regularizers.l1(0.0001)),\n",
    "    Dense(hidden5_num_units, activation='relu', kernel_regularizer=regularizers.l1(0.0001)),\n",
    "    Dense(output_num_units, activation='softmax')\n",
    "])\n",
    "\n",
    "# Compile the model\n",
    "model.compile(loss='categorical_crossentropy', optimizer='adam', metrics=['accuracy'])\n",
    "\n",
    "# Train the model\n",
    "trained_model_5d = model.fit(x_train, y_train, epochs=epochs, batch_size=batch_size, validation_data=(x_valid, y_valid))"
   ]
  },
  {
   "cell_type": "markdown",
   "metadata": {},
   "source": [
    "Utilizando o Regularizador Dropout\n"
   ]
  },
  {
   "cell_type": "code",
   "execution_count": 9,
   "metadata": {},
   "outputs": [
    {
     "name": "stdout",
     "output_type": "stream",
     "text": [
      "Epoch 1/10\n",
      "\u001b[1m329/329\u001b[0m \u001b[32m━━━━━━━━━━━━━━━━━━━━\u001b[0m\u001b[37m\u001b[0m \u001b[1m5s\u001b[0m 11ms/step - accuracy: 0.7628 - loss: 0.7140 - val_accuracy: 0.9539 - val_loss: 0.1572\n",
      "Epoch 2/10\n",
      "\u001b[1m329/329\u001b[0m \u001b[32m━━━━━━━━━━━━━━━━━━━━\u001b[0m\u001b[37m\u001b[0m \u001b[1m4s\u001b[0m 11ms/step - accuracy: 0.9481 - loss: 0.1726 - val_accuracy: 0.9644 - val_loss: 0.1219\n",
      "Epoch 3/10\n",
      "\u001b[1m329/329\u001b[0m \u001b[32m━━━━━━━━━━━━━━━━━━━━\u001b[0m\u001b[37m\u001b[0m \u001b[1m3s\u001b[0m 10ms/step - accuracy: 0.9650 - loss: 0.1224 - val_accuracy: 0.9682 - val_loss: 0.1169\n",
      "Epoch 4/10\n",
      "\u001b[1m329/329\u001b[0m \u001b[32m━━━━━━━━━━━━━━━━━━━━\u001b[0m\u001b[37m\u001b[0m \u001b[1m3s\u001b[0m 10ms/step - accuracy: 0.9675 - loss: 0.1128 - val_accuracy: 0.9720 - val_loss: 0.1064\n",
      "Epoch 5/10\n",
      "\u001b[1m329/329\u001b[0m \u001b[32m━━━━━━━━━━━━━━━━━━━━\u001b[0m\u001b[37m\u001b[0m \u001b[1m3s\u001b[0m 10ms/step - accuracy: 0.9719 - loss: 0.0896 - val_accuracy: 0.9712 - val_loss: 0.1071\n",
      "Epoch 6/10\n",
      "\u001b[1m329/329\u001b[0m \u001b[32m━━━━━━━━━━━━━━━━━━━━\u001b[0m\u001b[37m\u001b[0m \u001b[1m4s\u001b[0m 11ms/step - accuracy: 0.9781 - loss: 0.0776 - val_accuracy: 0.9733 - val_loss: 0.1054\n",
      "Epoch 7/10\n",
      "\u001b[1m329/329\u001b[0m \u001b[32m━━━━━━━━━━━━━━━━━━━━\u001b[0m\u001b[37m\u001b[0m \u001b[1m3s\u001b[0m 10ms/step - accuracy: 0.9810 - loss: 0.0683 - val_accuracy: 0.9745 - val_loss: 0.0978\n",
      "Epoch 8/10\n",
      "\u001b[1m329/329\u001b[0m \u001b[32m━━━━━━━━━━━━━━━━━━━━\u001b[0m\u001b[37m\u001b[0m \u001b[1m3s\u001b[0m 10ms/step - accuracy: 0.9818 - loss: 0.0607 - val_accuracy: 0.9751 - val_loss: 0.0929\n",
      "Epoch 9/10\n",
      "\u001b[1m329/329\u001b[0m \u001b[32m━━━━━━━━━━━━━━━━━━━━\u001b[0m\u001b[37m\u001b[0m \u001b[1m3s\u001b[0m 10ms/step - accuracy: 0.9837 - loss: 0.0578 - val_accuracy: 0.9781 - val_loss: 0.0985\n",
      "Epoch 10/10\n",
      "\u001b[1m329/329\u001b[0m \u001b[32m━━━━━━━━━━━━━━━━━━━━\u001b[0m\u001b[37m\u001b[0m \u001b[1m3s\u001b[0m 10ms/step - accuracy: 0.9850 - loss: 0.0517 - val_accuracy: 0.9782 - val_loss: 0.0954\n"
     ]
    }
   ],
   "source": [
    "model = Sequential([\n",
    "    Input(shape=(input_num_units,)),  # Input layer specifying the input shape\n",
    "    Dense(hidden1_num_units, activation='relu'),\n",
    "    Dropout(0.25),  # Dropout layer after the Dense layer\n",
    "    Dense(hidden2_num_units, activation='relu'),\n",
    "    Dropout(0.25),  # Dropout layer after the Dense layer\n",
    "    Dense(hidden3_num_units, activation='relu'),\n",
    "    Dropout(0.25),  # Dropout layer after the Dense layer\n",
    "    Dense(hidden4_num_units, activation='relu'),\n",
    "    Dropout(0.25),  # Dropout layer after the Dense layer\n",
    "    Dense(hidden5_num_units, activation='relu'),\n",
    "    Dropout(0.25),  # Dropout layer after the Dense layer\n",
    "    Dense(output_num_units, activation='softmax')  # Output layer\n",
    "])\n",
    "\n",
    "# Compile the model\n",
    "model.compile(loss='categorical_crossentropy', optimizer='adam', metrics=['accuracy'])\n",
    "\n",
    "# Train the model\n",
    "trained_model_5d = model.fit(x_train, y_train, epochs=epochs, batch_size=batch_size, validation_data=(x_valid, y_valid))"
   ]
  },
  {
   "cell_type": "markdown",
   "metadata": {},
   "source": [
    "Inserindo Data Augmentation"
   ]
  },
  {
   "cell_type": "code",
   "execution_count": 10,
   "metadata": {},
   "outputs": [
    {
     "name": "stderr",
     "output_type": "stream",
     "text": [
      "c:\\Users\\UT6E\\AppData\\Local\\miniforge3\\envs\\datamining\\Lib\\site-packages\\keras\\src\\legacy\\preprocessing\\image.py:1047: UserWarning: This ImageDataGenerator specifies `zca_whitening`, which overrides setting of `featurewise_center`.\n",
      "  warnings.warn(\n"
     ]
    }
   ],
   "source": [
    "import numpy as np  \n",
    "import pandas as pd\n",
    "import matplotlib.pyplot as plt\n",
    "import tensorflow as tf\n",
    "from sklearn.model_selection import train_test_split\n",
    "from keras.models import Sequential\n",
    "from keras.layers import Dense, Input, Dropout\n",
    "from tensorflow.keras.preprocessing.image import ImageDataGenerator\n",
    "import keras\n",
    "\n",
    "# Load the dataset\n",
    "(x_train, y_train), (x_test, y_test) = keras.datasets.mnist.load_data()\n",
    "\n",
    "# Verify dataset shape\n",
    "assert x_train.shape == (60000, 28, 28)\n",
    "assert x_test.shape == (10000, 28, 28)\n",
    "assert y_train.shape == (60000,)\n",
    "assert y_test.shape == (10000,)\n",
    "\n",
    "\n",
    "# Preprocess the data\n",
    "x_train = x_train.astype('float32') / 255  # Normalize the data\n",
    "x_train = np.expand_dims(x_train, -1)  # Reshape to (60000, 28, 28, 1) for ImageDataGenerator\n",
    "\n",
    "# Convert labels to categorical (one-hot encoding)\n",
    "train_labels = keras.utils.to_categorical(y_train).astype('float32')\n",
    "\n",
    "# Split data into training and validation sets\n",
    "x_train, x_valid, y_train, y_valid = train_test_split(x_train, train_labels, test_size=0.3, random_state=42)\n",
    "\n",
    "# Create an ImageDataGenerator with ZCA whitening\n",
    "datagen = ImageDataGenerator(zca_whitening=True)\n",
    "\n",
    "# Fit the generator on training data for ZCA whitening\n",
    "datagen.fit(x_train)\n",
    "\n",
    "# Optionally, you can use datagen.flow(x_train, y_train, batch_size=32) for batch training in a model\n",
    "datagen.flow(x_train, y_train, batch_size=32)\n",
    "\n",
    "\n",
    "## reshaping\n",
    "x_train=np.reshape(x_train,(x_train.shape[0],-1))/255\n",
    "x_valid=np.reshape(x_valid,(x_valid.shape[0],-1))/255\n",
    "\n",
    "\n"
   ]
  },
  {
   "cell_type": "markdown",
   "metadata": {},
   "source": [
    "Usando Dropout no novo data set"
   ]
  },
  {
   "cell_type": "code",
   "execution_count": 11,
   "metadata": {},
   "outputs": [
    {
     "name": "stdout",
     "output_type": "stream",
     "text": [
      "Epoch 1/10\n",
      "\u001b[1m329/329\u001b[0m \u001b[32m━━━━━━━━━━━━━━━━━━━━\u001b[0m\u001b[37m\u001b[0m \u001b[1m4s\u001b[0m 10ms/step - accuracy: 0.4438 - loss: 1.4780 - val_accuracy: 0.8781 - val_loss: 0.3943\n",
      "Epoch 2/10\n",
      "\u001b[1m329/329\u001b[0m \u001b[32m━━━━━━━━━━━━━━━━━━━━\u001b[0m\u001b[37m\u001b[0m \u001b[1m3s\u001b[0m 10ms/step - accuracy: 0.8803 - loss: 0.3971 - val_accuracy: 0.9058 - val_loss: 0.2965\n",
      "Epoch 3/10\n",
      "\u001b[1m329/329\u001b[0m \u001b[32m━━━━━━━━━━━━━━━━━━━━\u001b[0m\u001b[37m\u001b[0m \u001b[1m3s\u001b[0m 9ms/step - accuracy: 0.9216 - loss: 0.2667 - val_accuracy: 0.9383 - val_loss: 0.2106\n",
      "Epoch 4/10\n",
      "\u001b[1m329/329\u001b[0m \u001b[32m━━━━━━━━━━━━━━━━━━━━\u001b[0m\u001b[37m\u001b[0m \u001b[1m3s\u001b[0m 9ms/step - accuracy: 0.9364 - loss: 0.2132 - val_accuracy: 0.9477 - val_loss: 0.1753\n",
      "Epoch 5/10\n",
      "\u001b[1m329/329\u001b[0m \u001b[32m━━━━━━━━━━━━━━━━━━━━\u001b[0m\u001b[37m\u001b[0m \u001b[1m3s\u001b[0m 9ms/step - accuracy: 0.9447 - loss: 0.1905 - val_accuracy: 0.9579 - val_loss: 0.1435\n",
      "Epoch 6/10\n",
      "\u001b[1m329/329\u001b[0m \u001b[32m━━━━━━━━━━━━━━━━━━━━\u001b[0m\u001b[37m\u001b[0m \u001b[1m3s\u001b[0m 9ms/step - accuracy: 0.9486 - loss: 0.1686 - val_accuracy: 0.9572 - val_loss: 0.1535\n",
      "Epoch 7/10\n",
      "\u001b[1m329/329\u001b[0m \u001b[32m━━━━━━━━━━━━━━━━━━━━\u001b[0m\u001b[37m\u001b[0m \u001b[1m3s\u001b[0m 9ms/step - accuracy: 0.9527 - loss: 0.1620 - val_accuracy: 0.9577 - val_loss: 0.1416\n",
      "Epoch 8/10\n",
      "\u001b[1m329/329\u001b[0m \u001b[32m━━━━━━━━━━━━━━━━━━━━\u001b[0m\u001b[37m\u001b[0m \u001b[1m3s\u001b[0m 9ms/step - accuracy: 0.9609 - loss: 0.1291 - val_accuracy: 0.9581 - val_loss: 0.1431\n",
      "Epoch 9/10\n",
      "\u001b[1m329/329\u001b[0m \u001b[32m━━━━━━━━━━━━━━━━━━━━\u001b[0m\u001b[37m\u001b[0m \u001b[1m3s\u001b[0m 9ms/step - accuracy: 0.9621 - loss: 0.1289 - val_accuracy: 0.9654 - val_loss: 0.1200\n",
      "Epoch 10/10\n",
      "\u001b[1m329/329\u001b[0m \u001b[32m━━━━━━━━━━━━━━━━━━━━\u001b[0m\u001b[37m\u001b[0m \u001b[1m3s\u001b[0m 9ms/step - accuracy: 0.9648 - loss: 0.1220 - val_accuracy: 0.9667 - val_loss: 0.1177\n"
     ]
    }
   ],
   "source": [
    "# Define model architecture\n",
    "input_num_units = 784\n",
    "hidden1_num_units = 500\n",
    "hidden2_num_units = 500\n",
    "hidden3_num_units = 500\n",
    "hidden4_num_units = 500\n",
    "hidden5_num_units = 500\n",
    "output_num_units = 10\n",
    "\n",
    "epochs = 10\n",
    "batch_size = 128\n",
    "\n",
    "\n",
    "model = Sequential([\n",
    "    Input(shape=(input_num_units,)),  # Input layer specifying the input shape\n",
    "    Dense(hidden1_num_units, activation='relu'),\n",
    "    Dropout(0.25),  # Dropout layer after the Dense layer\n",
    "    Dense(hidden2_num_units, activation='relu'),\n",
    "    Dropout(0.25),  # Dropout layer after the Dense layer\n",
    "    Dense(hidden3_num_units, activation='relu'),\n",
    "    Dropout(0.25),  # Dropout layer after the Dense layer\n",
    "    Dense(hidden4_num_units, activation='relu'),\n",
    "    Dropout(0.25),  # Dropout layer after the Dense layer\n",
    "    Dense(hidden5_num_units, activation='relu'),\n",
    "    Dropout(0.25),  # Dropout layer after the Dense layer\n",
    "    Dense(output_num_units, activation='softmax')  # Output layer\n",
    "])\n",
    "\n",
    "# Compile the model\n",
    "model.compile(loss='categorical_crossentropy', optimizer='adam', metrics=['accuracy'])\n",
    "\n",
    "# Train the model\n",
    "trained_model_5d = model.fit(x_train, y_train, epochs=epochs, batch_size=batch_size, validation_data=(x_valid, y_valid))\n"
   ]
  },
  {
   "cell_type": "markdown",
   "metadata": {},
   "source": [
    "Using Early Stopping Technique"
   ]
  },
  {
   "cell_type": "code",
   "execution_count": 12,
   "metadata": {},
   "outputs": [
    {
     "name": "stdout",
     "output_type": "stream",
     "text": [
      "Epoch 1/10\n",
      "\u001b[1m329/329\u001b[0m \u001b[32m━━━━━━━━━━━━━━━━━━━━\u001b[0m\u001b[37m\u001b[0m \u001b[1m4s\u001b[0m 10ms/step - accuracy: 0.9631 - loss: 0.1270 - val_accuracy: 0.9647 - val_loss: 0.1225\n",
      "Epoch 2/10\n",
      "\u001b[1m329/329\u001b[0m \u001b[32m━━━━━━━━━━━━━━━━━━━━\u001b[0m\u001b[37m\u001b[0m \u001b[1m3s\u001b[0m 9ms/step - accuracy: 0.9661 - loss: 0.1139 - val_accuracy: 0.9652 - val_loss: 0.1272\n",
      "Epoch 3/10\n",
      "\u001b[1m329/329\u001b[0m \u001b[32m━━━━━━━━━━━━━━━━━━━━\u001b[0m\u001b[37m\u001b[0m \u001b[1m3s\u001b[0m 9ms/step - accuracy: 0.9633 - loss: 0.1240 - val_accuracy: 0.9699 - val_loss: 0.1059\n",
      "Epoch 4/10\n",
      "\u001b[1m329/329\u001b[0m \u001b[32m━━━━━━━━━━━━━━━━━━━━\u001b[0m\u001b[37m\u001b[0m \u001b[1m3s\u001b[0m 9ms/step - accuracy: 0.9719 - loss: 0.0954 - val_accuracy: 0.9668 - val_loss: 0.1222\n",
      "Epoch 5/10\n",
      "\u001b[1m329/329\u001b[0m \u001b[32m━━━━━━━━━━━━━━━━━━━━\u001b[0m\u001b[37m\u001b[0m \u001b[1m3s\u001b[0m 9ms/step - accuracy: 0.9722 - loss: 0.0929 - val_accuracy: 0.9683 - val_loss: 0.1088\n"
     ]
    }
   ],
   "source": [
    "from keras.callbacks import EarlyStopping\n",
    "\n",
    "\n",
    "# Compile the model\n",
    "model.compile(loss='categorical_crossentropy', optimizer='adam', metrics=['accuracy'])\n",
    "\n",
    "# Define early stopping callback\n",
    "early_stopping = EarlyStopping(monitor='val_accuracy', patience=2)\n",
    "\n",
    "# Train the model\n",
    "trained_model_5d = model.fit(\n",
    "    x_train,\n",
    "    y_train,\n",
    "    epochs=epochs,\n",
    "    batch_size=batch_size,\n",
    "    validation_data=(x_valid, y_valid),\n",
    "    callbacks=[early_stopping]\n",
    ")\n",
    "\n"
   ]
  }
 ],
 "metadata": {
  "kernelspec": {
   "display_name": "datamining",
   "language": "python",
   "name": "python3"
  },
  "language_info": {
   "codemirror_mode": {
    "name": "ipython",
    "version": 3
   },
   "file_extension": ".py",
   "mimetype": "text/x-python",
   "name": "python",
   "nbconvert_exporter": "python",
   "pygments_lexer": "ipython3",
   "version": "3.12.5"
  }
 },
 "nbformat": 4,
 "nbformat_minor": 2
}
