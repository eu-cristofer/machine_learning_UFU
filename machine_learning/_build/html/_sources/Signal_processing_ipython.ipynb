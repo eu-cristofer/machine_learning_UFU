{
 "cells": [
  {
   "cell_type": "markdown",
   "id": "6b5a81a2-8a2e-4423-ac7b-939e90bb8701",
   "metadata": {},
   "source": [
    "# Signal Processing: Featuring IPython\n",
    "\n",
    "Exemplos extraídos do livro Python for Signal Processing: Featuring IPython Notebooks{cite}`unpingco_python_2014`.\n",
    "\n",
    "# Checking the behaviour of a integer division\n",
    "\n",
    "Here is straightforward to notice the division returns a floating point."
   ]
  },
  {
   "cell_type": "code",
   "execution_count": 5,
   "id": "8226dcda-79bc-4a5a-a6c8-0a065801c40d",
   "metadata": {},
   "outputs": [
    {
     "data": {
      "text/plain": [
       "0.25"
      ]
     },
     "execution_count": 5,
     "metadata": {},
     "output_type": "execute_result"
    }
   ],
   "source": [
    "1 / 4"
   ]
  },
  {
   "cell_type": "code",
   "execution_count": 9,
   "id": "e36d8418-7717-4664-a1bb-8d4debaced12",
   "metadata": {},
   "outputs": [
    {
     "data": {
      "text/plain": [
       "float"
      ]
     },
     "execution_count": 9,
     "metadata": {},
     "output_type": "execute_result"
    }
   ],
   "source": [
    "type(1 / 4)"
   ]
  },
  {
   "cell_type": "code",
   "execution_count": 1,
   "id": "629edee7-2582-4e48-8a38-6be5b99ec5ec",
   "metadata": {},
   "outputs": [],
   "source": [
    "import numpy as np\n",
    "import matplotlib.pyplot as plt"
   ]
  },
  {
   "cell_type": "code",
   "execution_count": 4,
   "id": "3573c109-8c9f-42e2-b72f-7468f6daf2a2",
   "metadata": {},
   "outputs": [
    {
     "data": {
      "text/plain": [
       "matrix([[1],\n",
       "        [4],\n",
       "        [7]])"
      ]
     },
     "execution_count": 4,
     "metadata": {},
     "output_type": "execute_result"
    }
   ],
   "source": [
    "A=np.matrix([[1,2,3],[4,5,6],[7,8,9]])\n",
    "x=np.matrix([[1],[0],[0]])\n",
    "A*x"
   ]
  },
  {
   "cell_type": "markdown",
   "id": "54cda9bd-3367-4cdf-9ef3-a74b1fc51c1b",
   "metadata": {
    "editable": true,
    "slideshow": {
     "slide_type": ""
    },
    "tags": []
   },
   "source": [
    "## References\n",
    "\n",
    "```{bibliography}\n",
    "```"
   ]
  },
  {
   "cell_type": "code",
   "execution_count": null,
   "id": "227ef64f-91bd-4848-9243-6403257cdb09",
   "metadata": {},
   "outputs": [],
   "source": []
  }
 ],
 "metadata": {
  "kernelspec": {
   "display_name": "",
   "name": ""
  },
  "language_info": {
   "codemirror_mode": {
    "name": "ipython",
    "version": 3
   },
   "file_extension": ".py",
   "mimetype": "text/x-python",
   "name": "python",
   "nbconvert_exporter": "python",
   "pygments_lexer": "ipython3",
   "version": "3.12.5"
  }
 },
 "nbformat": 4,
 "nbformat_minor": 5
}
